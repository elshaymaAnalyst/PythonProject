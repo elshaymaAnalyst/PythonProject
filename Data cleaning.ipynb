{
 "cells": [
  {
   "cell_type": "code",
   "execution_count": 2,
   "id": "5324c3e3-4abd-4e45-8fbf-f31f6f90d095",
   "metadata": {},
   "outputs": [
    {
     "name": "stdout",
     "output_type": "stream",
     "text": [
      "Dataset shape: (5000, 28)\n",
      "\n",
      "Data types:\n",
      "EmployeeID     int64\n",
      "Age            int64\n",
      "Gender        object\n",
      "Department    object\n",
      "JobRole       object\n",
      "dtype: object\n",
      "\n",
      "Missing values per column:\n",
      "EmployeeID                    0\n",
      "Age                           0\n",
      "Gender                        0\n",
      "Department                    0\n",
      "JobRole                       0\n",
      "Education                     0\n",
      "EducationField               50\n",
      "MaritalStatus                 0\n",
      "HireDate                      0\n",
      "YearsAtCompany                0\n",
      "TotalWorkingYears             0\n",
      "NumCompaniesWorked            0\n",
      "MonthlyIncome                 0\n",
      "PercentSalaryHike             0\n",
      "PerformanceRating             0\n",
      "JobSatisfaction               0\n",
      "EnvironmentSatisfaction       0\n",
      "WorkLifeBalance               0\n",
      "TrainingTimesLastYear         0\n",
      "OverTime                      0\n",
      "BusinessTravel                0\n",
      "Promotions                    0\n",
      "LastPromotionDate          3048\n",
      "DistanceFromHome              0\n",
      "LeaveBalance                  0\n",
      "StockOptionLevel              0\n",
      "Attrition                     0\n",
      "ManagerID                     0\n",
      "dtype: int64\n"
     ]
    }
   ],
   "source": [
    "# --------------------------------------------------\n",
    "# STEP: Reload and Inspect Data\n",
    "# --------------------------------------------------\n",
    "\n",
    "import pandas as pd\n",
    "df = pd.read_csv('hr_synthetic_5000.csv', parse_dates=['HireDate', 'LastPromotionDate'])\n",
    "\n",
    "# Quick overview\n",
    "print(\"Dataset shape:\", df.shape)\n",
    "print(\"\\nData types:\")\n",
    "print(df.dtypes.head())\n",
    "\n",
    "print(\"\\nMissing values per column:\")\n",
    "print(df.isna().sum())\n",
    "\n",
    " "
   ]
  },
  {
   "cell_type": "code",
   "execution_count": 3,
   "id": "ffee885f-4b15-4ef4-aae0-98beb7573e04",
   "metadata": {},
   "outputs": [
    {
     "name": "stdout",
     "output_type": "stream",
     "text": [
      "Missing values before cleaning:\n",
      " EducationField         50\n",
      "LastPromotionDate    3048\n",
      "dtype: int64\n",
      "\n",
      "Missing values after cleaning:\n",
      " 0\n"
     ]
    },
    {
     "name": "stderr",
     "output_type": "stream",
     "text": [
      "C:\\Users\\LCC\\AppData\\Local\\Temp\\ipykernel_10888\\1335831657.py:10: FutureWarning: A value is trying to be set on a copy of a DataFrame or Series through chained assignment using an inplace method.\n",
      "The behavior will change in pandas 3.0. This inplace method will never work because the intermediate object on which we are setting values always behaves as a copy.\n",
      "\n",
      "For example, when doing 'df[col].method(value, inplace=True)', try using 'df.method({col: value}, inplace=True)' or df[col] = df[col].method(value) instead, to perform the operation inplace on the original object.\n",
      "\n",
      "\n",
      "  df['EducationField'].fillna(df['EducationField'].mode()[0], inplace=True)\n"
     ]
    }
   ],
   "source": [
    "# --------------------------------------------------\n",
    "# STEP: Handle Missing Values\n",
    "# --------------------------------------------------\n",
    "\n",
    "# Count missing values\n",
    "missing_before = df.isna().sum()\n",
    "print(\"Missing values before cleaning:\\n\", missing_before[missing_before > 0])\n",
    "\n",
    "# Fill missing EducationField with mode\n",
    "df['EducationField'].fillna(df['EducationField'].mode()[0], inplace=True)\n",
    "\n",
    "# Fill missing LastPromotionDate with median HireDate + 3 years (approximation)\n",
    "median_hire_date = df['HireDate'].median()\n",
    "df['LastPromotionDate'] = df['LastPromotionDate'].fillna(median_hire_date + pd.DateOffset(years=3))\n",
    "\n",
    "# Recheck\n",
    "9print(\"\\nMissing values after cleaning:\\n\", df.isna().sum().sum()) "
   ]
  },
  {
   "cell_type": "code",
   "execution_count": 5,
   "id": "b2997ca0-c14a-4708-b9bd-85f3922f9c04",
   "metadata": {},
   "outputs": [
    {
     "data": {
      "text/plain": [
       "EmployeeID                 0\n",
       "Age                        0\n",
       "Gender                     0\n",
       "Department                 0\n",
       "JobRole                    0\n",
       "Education                  0\n",
       "EducationField             0\n",
       "MaritalStatus              0\n",
       "HireDate                   0\n",
       "YearsAtCompany             0\n",
       "TotalWorkingYears          0\n",
       "NumCompaniesWorked         0\n",
       "MonthlyIncome              0\n",
       "PercentSalaryHike          0\n",
       "PerformanceRating          0\n",
       "JobSatisfaction            0\n",
       "EnvironmentSatisfaction    0\n",
       "WorkLifeBalance            0\n",
       "TrainingTimesLastYear      0\n",
       "OverTime                   0\n",
       "BusinessTravel             0\n",
       "Promotions                 0\n",
       "LastPromotionDate          0\n",
       "DistanceFromHome           0\n",
       "LeaveBalance               0\n",
       "StockOptionLevel           0\n",
       "Attrition                  0\n",
       "ManagerID                  0\n",
       "dtype: int64"
      ]
     },
     "execution_count": 5,
     "metadata": {},
     "output_type": "execute_result"
    }
   ],
   "source": [
    "df.isna().sum()"
   ]
  },
  {
   "cell_type": "code",
   "execution_count": null,
   "id": "da4d9389-cc12-4a55-b512-c97c8cadd846",
   "metadata": {},
   "outputs": [],
   "source": [
    "5 5 5 5 "
   ]
  },
  {
   "cell_type": "code",
   "execution_count": null,
   "id": "f37f9151-3538-4e2b-8975-e46b766e7e28",
   "metadata": {},
   "outputs": [],
   "source": [
    "5"
   ]
  }
 ],
 "metadata": {
  "kernelspec": {
   "display_name": "Python 3 (ipykernel)",
   "language": "python",
   "name": "python3"
  },
  "language_info": {
   "codemirror_mode": {
    "name": "ipython",
    "version": 3
   },
   "file_extension": ".py",
   "mimetype": "text/x-python",
   "name": "python",
   "nbconvert_exporter": "python",
   "pygments_lexer": "ipython3",
   "version": "3.13.5"
  }
 },
 "nbformat": 4,
 "nbformat_minor": 5
}
